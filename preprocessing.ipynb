{
  "nbformat": 4,
  "nbformat_minor": 0,
  "metadata": {
    "colab": {
      "name": "preprocessing.ipynb",
      "provenance": [],
      "authorship_tag": "ABX9TyOfY6PTFgpRMBEZ4ED6flUX",
      "include_colab_link": true
    },
    "kernelspec": {
      "name": "python3",
      "display_name": "Python 3"
    },
    "language_info": {
      "name": "python"
    }
  },
  "cells": [
    {
      "cell_type": "markdown",
      "metadata": {
        "id": "view-in-github",
        "colab_type": "text"
      },
      "source": [
        "<a href=\"https://colab.research.google.com/github/widiresa/widiresa.github.ioo/blob/master/preprocessing.ipynb\" target=\"_parent\"><img src=\"https://colab.research.google.com/assets/colab-badge.svg\" alt=\"Open In Colab\"/></a>"
      ]
    },
    {
      "cell_type": "code",
      "metadata": {
        "id": "BAUcu6Kj-9w5"
      },
      "source": [
        "import numpy as np\n",
        "import matplotlib.pyplot as plt\n",
        "import pandas as pd"
      ],
      "execution_count": 36,
      "outputs": []
    },
    {
      "cell_type": "code",
      "metadata": {
        "id": "Px3KJLJR_usX"
      },
      "source": [
        "dataset = pd.read_csv('Data.csv')\n",
        "x = dataset.iloc[:, :-1].values\n",
        "y = dataset.iloc[:, -1].values"
      ],
      "execution_count": 37,
      "outputs": []
    },
    {
      "cell_type": "code",
      "metadata": {
        "colab": {
          "base_uri": "https://localhost:8080/"
        },
        "id": "XAhRs0YEAI7X",
        "outputId": "831bd7d2-8c64-4a12-9e80-35d4aa4be31a"
      },
      "source": [
        "print(x)"
      ],
      "execution_count": 38,
      "outputs": [
        {
          "output_type": "stream",
          "text": [
            "[['Anggur' 30.0 45000.0]\n",
            " ['Apel' 70.0 45000.0]\n",
            " ['Semangka' 40.0 65000.0]\n",
            " ['Pisang' 50.0 60000.0]\n",
            " ['Apel' 60.0 nan]\n",
            " ['Pisang' 45.0 60000.0]\n",
            " ['Semangka' nan 55000.0]\n",
            " ['Anggur' 65.0 80000.0]\n",
            " ['Pisang' 50.0 80000.0]\n",
            " ['Apel' 45.0 70000.0]]\n"
          ],
          "name": "stdout"
        }
      ]
    },
    {
      "cell_type": "code",
      "metadata": {
        "colab": {
          "base_uri": "https://localhost:8080/"
        },
        "id": "_oEeH7jVANyi",
        "outputId": "5a523709-2093-4722-e118-7f45992e169a"
      },
      "source": [
        "print(y)"
      ],
      "execution_count": 39,
      "outputs": [
        {
          "output_type": "stream",
          "text": [
            "['No' 'Yes' 'No' 'No' 'Yes' 'Yes' 'No' 'Yes' 'No' 'Yes']\n"
          ],
          "name": "stdout"
        }
      ]
    },
    {
      "cell_type": "code",
      "metadata": {
        "id": "oug4A302AUNR"
      },
      "source": [
        "from sklearn.impute import SimpleImputer\n",
        "imputer = SimpleImputer(missing_values=np.nan, strategy='mean')\n",
        "imputer.fit(x[:, 1:3])\n",
        "x[:, 1:3] = imputer.transform(x[:, 1:3])"
      ],
      "execution_count": 40,
      "outputs": []
    },
    {
      "cell_type": "code",
      "metadata": {
        "colab": {
          "base_uri": "https://localhost:8080/"
        },
        "id": "2wz_XKriBvbD",
        "outputId": "accf7d33-4cd2-45b5-be86-f4faadaa625d"
      },
      "source": [
        "print(x)"
      ],
      "execution_count": 41,
      "outputs": [
        {
          "output_type": "stream",
          "text": [
            "[['Anggur' 30.0 45000.0]\n",
            " ['Apel' 70.0 45000.0]\n",
            " ['Semangka' 40.0 65000.0]\n",
            " ['Pisang' 50.0 60000.0]\n",
            " ['Apel' 60.0 62222.22222222222]\n",
            " ['Pisang' 45.0 60000.0]\n",
            " ['Semangka' 50.55555555555556 55000.0]\n",
            " ['Anggur' 65.0 80000.0]\n",
            " ['Pisang' 50.0 80000.0]\n",
            " ['Apel' 45.0 70000.0]]\n"
          ],
          "name": "stdout"
        }
      ]
    },
    {
      "cell_type": "code",
      "metadata": {
        "id": "VDZ2I8DPBzIX"
      },
      "source": [
        "from sklearn.compose import ColumnTransformer\n",
        "from sklearn.preprocessing import OneHotEncoder\n",
        "ct = ColumnTransformer(transformers=[('encoder', OneHotEncoder(), [0])], remainder='passthrough')\n",
        "x = np.array(ct.fit_transform(x))"
      ],
      "execution_count": 44,
      "outputs": []
    },
    {
      "cell_type": "code",
      "metadata": {
        "colab": {
          "base_uri": "https://localhost:8080/"
        },
        "id": "C_Irl4x-GLQ_",
        "outputId": "80a88c9e-e3f8-4983-f8c4-005392ead331"
      },
      "source": [
        "print(x)"
      ],
      "execution_count": 45,
      "outputs": [
        {
          "output_type": "stream",
          "text": [
            "[[1.0 0.0 1.0 0.0 0.0 0.0 30.0 45000.0]\n",
            " [0.0 1.0 0.0 1.0 0.0 0.0 70.0 45000.0]\n",
            " [0.0 1.0 0.0 0.0 0.0 1.0 40.0 65000.0]\n",
            " [0.0 1.0 0.0 0.0 1.0 0.0 50.0 60000.0]\n",
            " [0.0 1.0 0.0 1.0 0.0 0.0 60.0 62222.22222222222]\n",
            " [0.0 1.0 0.0 0.0 1.0 0.0 45.0 60000.0]\n",
            " [0.0 1.0 0.0 0.0 0.0 1.0 50.55555555555556 55000.0]\n",
            " [1.0 0.0 1.0 0.0 0.0 0.0 65.0 80000.0]\n",
            " [0.0 1.0 0.0 0.0 1.0 0.0 50.0 80000.0]\n",
            " [0.0 1.0 0.0 1.0 0.0 0.0 45.0 70000.0]]\n"
          ],
          "name": "stdout"
        }
      ]
    },
    {
      "cell_type": "code",
      "metadata": {
        "id": "s2GWodq3dht-"
      },
      "source": [
        "from sklearn.preprocessing import LabelEncoder\n",
        "le = LabelEncoder()\n",
        "y = le.fit_transform(y)"
      ],
      "execution_count": 47,
      "outputs": []
    },
    {
      "cell_type": "code",
      "metadata": {
        "colab": {
          "base_uri": "https://localhost:8080/"
        },
        "id": "Bp0FyddMeeF6",
        "outputId": "9a782d10-0273-4ffb-8e10-4da1e045e996"
      },
      "source": [
        "print(y)"
      ],
      "execution_count": 48,
      "outputs": [
        {
          "output_type": "stream",
          "text": [
            "[0 1 0 0 1 1 0 1 0 1]\n"
          ],
          "name": "stdout"
        }
      ]
    },
    {
      "cell_type": "code",
      "metadata": {
        "id": "mhIy9LRVegLy"
      },
      "source": [
        "from sklearn.model_selection import train_test_split\n",
        "x_train, x_test, y_train, y_test = train_test_split(x, y, test_size=0.2, random_state=1)"
      ],
      "execution_count": 51,
      "outputs": []
    },
    {
      "cell_type": "code",
      "metadata": {
        "colab": {
          "base_uri": "https://localhost:8080/"
        },
        "id": "EB0OMb2WfjxZ",
        "outputId": "432aeaf4-f987-47cf-93bb-ba96601e2f6d"
      },
      "source": [
        "print(x_train)"
      ],
      "execution_count": 52,
      "outputs": [
        {
          "output_type": "stream",
          "text": [
            "[[0.0 1.0 0.0 0.0 0.0 1.0 50.55555555555556 55000.0]\n",
            " [0.0 1.0 0.0 1.0 0.0 0.0 60.0 62222.22222222222]\n",
            " [1.0 0.0 1.0 0.0 0.0 0.0 30.0 45000.0]\n",
            " [0.0 1.0 0.0 0.0 1.0 0.0 50.0 60000.0]\n",
            " [0.0 1.0 0.0 1.0 0.0 0.0 70.0 45000.0]\n",
            " [1.0 0.0 1.0 0.0 0.0 0.0 65.0 80000.0]\n",
            " [0.0 1.0 0.0 0.0 1.0 0.0 50.0 80000.0]\n",
            " [0.0 1.0 0.0 0.0 1.0 0.0 45.0 60000.0]]\n"
          ],
          "name": "stdout"
        }
      ]
    },
    {
      "cell_type": "code",
      "metadata": {
        "colab": {
          "base_uri": "https://localhost:8080/"
        },
        "id": "xksOE46EfwvT",
        "outputId": "a88f7a1f-ced9-4f3d-a98e-0b6deecfa992"
      },
      "source": [
        "print(x_test)"
      ],
      "execution_count": 53,
      "outputs": [
        {
          "output_type": "stream",
          "text": [
            "[[0.0 1.0 0.0 0.0 0.0 1.0 40.0 65000.0]\n",
            " [0.0 1.0 0.0 1.0 0.0 0.0 45.0 70000.0]]\n"
          ],
          "name": "stdout"
        }
      ]
    },
    {
      "cell_type": "code",
      "metadata": {
        "colab": {
          "base_uri": "https://localhost:8080/"
        },
        "id": "tLvWYBeEf2al",
        "outputId": "c5e84060-7b4c-40f8-85a4-0d7234f53fc0"
      },
      "source": [
        "print(y_train)"
      ],
      "execution_count": 54,
      "outputs": [
        {
          "output_type": "stream",
          "text": [
            "[0 1 0 0 1 1 0 1]\n"
          ],
          "name": "stdout"
        }
      ]
    },
    {
      "cell_type": "code",
      "metadata": {
        "colab": {
          "base_uri": "https://localhost:8080/"
        },
        "id": "guowAcWPf8JU",
        "outputId": "791365dc-ff9e-461d-f082-c9904b5c6386"
      },
      "source": [
        "print(y_test)"
      ],
      "execution_count": 55,
      "outputs": [
        {
          "output_type": "stream",
          "text": [
            "[0 1]\n"
          ],
          "name": "stdout"
        }
      ]
    },
    {
      "cell_type": "code",
      "metadata": {
        "id": "Nb3xRwM3gEha"
      },
      "source": [
        "from sklearn.preprocessing import StandardScaler\n",
        "sc = StandardScaler()\n",
        "x_train[:, 3:] = sc.fit_transform(x_train[:, 3:])\n",
        "x_test[:, 3:] = sc.transform(x_test[:, 3:])"
      ],
      "execution_count": 56,
      "outputs": []
    },
    {
      "cell_type": "code",
      "metadata": {
        "colab": {
          "base_uri": "https://localhost:8080/"
        },
        "id": "acsGreDdgz2W",
        "outputId": "8c8cf4d8-c19a-4bcd-dd73-805f25a4501e"
      },
      "source": [
        "print(x_train)"
      ],
      "execution_count": 57,
      "outputs": [
        {
          "output_type": "stream",
          "text": [
            "[[0.0 1.0 0.0 -0.5773502691896258 -0.7745966692414834 2.6457513110645903\n",
            "  -0.17194112402745307 -0.4678599812967005]\n",
            " [0.0 1.0 0.0 1.7320508075688774 -0.7745966692414834 -0.3779644730092272\n",
            "  0.6344034576185349 0.10458046640749719]\n",
            " [1.0 0.0 1.0 -0.5773502691896258 -0.7745966692414834 -0.3779644730092272\n",
            "  -1.926926389962839 -1.2604698319640515]\n",
            " [0.0 1.0 0.0 -0.5773502691896258 1.2909944487358056 -0.3779644730092272\n",
            "  -0.21937315824192308 -0.071555055963025]\n",
            " [0.0 1.0 0.0 1.7320508075688774 -0.7745966692414834 -0.3779644730092272\n",
            "  1.4881800734789927 -1.2604698319640515]\n",
            " [1.0 0.0 1.0 -0.5773502691896258 -0.7745966692414834 -0.3779644730092272\n",
            "  1.061291765548764 1.5136646453716769]\n",
            " [0.0 1.0 0.0 -0.5773502691896258 1.2909944487358056 -0.3779644730092272\n",
            "  -0.21937315824192308 1.5136646453716769]\n",
            " [0.0 1.0 0.0 -0.5773502691896258 1.2909944487358056 -0.3779644730092272\n",
            "  -0.6462614661721521 -0.071555055963025]]\n"
          ],
          "name": "stdout"
        }
      ]
    },
    {
      "cell_type": "code",
      "metadata": {
        "colab": {
          "base_uri": "https://localhost:8080/"
        },
        "id": "yGeKQ5nShAL0",
        "outputId": "94f0384e-1639-43c9-b1fe-7953a8d45e3b"
      },
      "source": [
        "print(x_test)"
      ],
      "execution_count": 58,
      "outputs": [
        {
          "output_type": "stream",
          "text": [
            "[[0.0 1.0 0.0 -0.5773502691896258 -0.7745966692414834 2.6457513110645903\n",
            "  -1.073149774102381 0.3247498693706505]\n",
            " [0.0 1.0 0.0 1.7320508075688774 -0.7745966692414834 -0.3779644730092272\n",
            "  -0.6462614661721521 0.721054794704326]]\n"
          ],
          "name": "stdout"
        }
      ]
    }
  ]
}